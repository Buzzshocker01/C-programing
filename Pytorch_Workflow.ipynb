{
  "nbformat": 4,
  "nbformat_minor": 0,
  "metadata": {
    "colab": {
      "provenance": [],
      "authorship_tag": "ABX9TyMPagQ0X/vc9nKhIWZEup8T",
      "include_colab_link": true
    },
    "kernelspec": {
      "name": "python3",
      "display_name": "Python 3"
    },
    "language_info": {
      "name": "python"
    }
  },
  "cells": [
    {
      "cell_type": "markdown",
      "metadata": {
        "id": "view-in-github",
        "colab_type": "text"
      },
      "source": [
        "<a href=\"https://colab.research.google.com/github/Buzzshocker01/C-programing/blob/main/Pytorch_Workflow.ipynb\" target=\"_parent\"><img src=\"https://colab.research.google.com/assets/colab-badge.svg\" alt=\"Open In Colab\"/></a>"
      ]
    },
    {
      "cell_type": "code",
      "execution_count": 54,
      "metadata": {
        "id": "8zD8Da58IJSq"
      },
      "outputs": [],
      "source": [
        "import torch\n",
        "import pandas as pd\n",
        "import numpy as np\n",
        "from torch import nn\n",
        "import matplotlib.pyplot as plt\n",
        "import matplotlib.pyplot as plt\n"
      ]
    },
    {
      "cell_type": "markdown",
      "source": [
        "DATA PREPARING\n",
        "\n",
        "FROM EXCEL\n",
        "\n",
        "1.   IMAGES\n",
        "2.   VIDEOS\n",
        "3.   AUDIO\n",
        "4.   DNA\n",
        "\n",
        "\n",
        "\n",
        "\n",
        "\n"
      ],
      "metadata": {
        "id": "_hAQAIkuJWFH"
      }
    },
    {
      "cell_type": "markdown",
      "source": [
        "\n",
        "\n",
        "---\n",
        "\n",
        "\n",
        "\n",
        "---\n",
        "\n"
      ],
      "metadata": {
        "id": "fL4MYHXQIeLH"
      }
    },
    {
      "cell_type": "code",
      "source": [
        "#USING LINEAR REGRESSION\n",
        "# Y = A + BX           WHERE B is weight X is unkown and A is bias\n",
        "\n",
        "weight= 0.7\n",
        "bias = 0.3\n",
        "\n",
        "#create\n",
        "X = torch.arange(0,1,0.02).unsqueeze(dim=1)\n",
        "y = X * weight + bias\n",
        "\n",
        "X[:10], y[:10]\n"
      ],
      "metadata": {
        "colab": {
          "base_uri": "https://localhost:8080/"
        },
        "id": "qnF3Ub1JJZm-",
        "outputId": "a0c89a7d-8aff-4308-f5e2-27ed433cf466"
      },
      "execution_count": 55,
      "outputs": [
        {
          "output_type": "execute_result",
          "data": {
            "text/plain": [
              "(tensor([[0.0000],\n",
              "         [0.0200],\n",
              "         [0.0400],\n",
              "         [0.0600],\n",
              "         [0.0800],\n",
              "         [0.1000],\n",
              "         [0.1200],\n",
              "         [0.1400],\n",
              "         [0.1600],\n",
              "         [0.1800]]),\n",
              " tensor([[0.3000],\n",
              "         [0.3140],\n",
              "         [0.3280],\n",
              "         [0.3420],\n",
              "         [0.3560],\n",
              "         [0.3700],\n",
              "         [0.3840],\n",
              "         [0.3980],\n",
              "         [0.4120],\n",
              "         [0.4260]]))"
            ]
          },
          "metadata": {},
          "execution_count": 55
        }
      ]
    },
    {
      "cell_type": "code",
      "source": [
        "len(X),len(y)"
      ],
      "metadata": {
        "colab": {
          "base_uri": "https://localhost:8080/"
        },
        "id": "LfvHW9ZjNy62",
        "outputId": "a30334d0-5a57-435f-d79b-fd7d4977ac7a"
      },
      "execution_count": 56,
      "outputs": [
        {
          "output_type": "execute_result",
          "data": {
            "text/plain": [
              "(50, 50)"
            ]
          },
          "metadata": {},
          "execution_count": 56
        }
      ]
    },
    {
      "cell_type": "markdown",
      "source": [
        "#Preparing data:\n",
        "Spliting the data in following parts:\n",
        "1. TRAINING DATA (60-80%)\n",
        "2. VALIDATION SET DATA (10-20%)\n",
        "3. TESTING DATA (10-20%)"
      ],
      "metadata": {
        "id": "8-9RkBY9sXtY"
      }
    },
    {
      "cell_type": "code",
      "source": [
        "train_split= int(0.8*len(X))         #takes 80% of X in terms of its index\n",
        "X_train, y_train = X[:train_split], y[:train_split]\n",
        "X_test, y_test = X[train_split:], y[train_split:]\n",
        "len(X_train), len(y_train),len(X_test), len(y_test)\n"
      ],
      "metadata": {
        "colab": {
          "base_uri": "https://localhost:8080/"
        },
        "id": "bOPYe5kUsstJ",
        "outputId": "b44b9b2d-cda1-49b9-dd9d-2dd6d57fdb8b"
      },
      "execution_count": 57,
      "outputs": [
        {
          "output_type": "execute_result",
          "data": {
            "text/plain": [
              "(40, 40, 10, 10)"
            ]
          },
          "metadata": {},
          "execution_count": 57
        }
      ]
    },
    {
      "cell_type": "markdown",
      "source": [
        "Vizualising using MATPLOT"
      ],
      "metadata": {
        "id": "EfTIf1-tuFux"
      }
    },
    {
      "cell_type": "markdown",
      "source": [],
      "metadata": {
        "id": "IHyDiL3QkBIk"
      }
    },
    {
      "cell_type": "code",
      "source": [
        "def plot_prediction(train_data = X_train,train_labels=y_train,test_data=X_test,test_labels=y_test, predictions=None):\n",
        "\n",
        "  #Plots training data and test data for comparison\n",
        "  plt.figure(figsize=(10,8))\n",
        "  #Plot training data in blue\n",
        "  plt.scatter(train_data,train_labels, c='b',s=10, label=\"Training data\")\n",
        "  #Plot test data in green\n",
        "  plt.scatter(test_data,test_labels, c='g',s=4, label=\"Testing data\")\n",
        "  #prediticion data\n",
        "  if predictions is not None:\n",
        "    plt.scatter(test_data,predictions,c='r',s=4, label=\"Predictions\")\n",
        "\n",
        "  plt.legend(prop={\"size\": 14});\n"
      ],
      "metadata": {
        "id": "ps22TGuquDmI"
      },
      "execution_count": 58,
      "outputs": []
    },
    {
      "cell_type": "code",
      "source": [
        "plot_prediction(X_train,y_train,X_test,y_test,predictions=None)"
      ],
      "metadata": {
        "colab": {
          "base_uri": "https://localhost:8080/",
          "height": 519
        },
        "id": "WBJGvfI2wPiI",
        "outputId": "48bdc3a4-7c06-4fcd-b840-45359e44360d"
      },
      "execution_count": 59,
      "outputs": [
        {
          "output_type": "display_data",
          "data": {
            "text/plain": [
              "<Figure size 1000x800 with 1 Axes>"
            ],
            "image/png": "[encoded data removed]"
          },
          "metadata": {}
        }
      ]
    },
    {
      "cell_type": "markdown",
      "source": [
        "BUILDING FIRST PYTORCH MODEL"
      ],
      "metadata": {
        "id": "4Bni1l1nxc0C"
      }
    },
    {
      "cell_type": "code",
      "source": [
        "#Create Liner regression model class\n",
        "class LinearRegressionModel(nn.Module):       #Almost everything in pytorch inherits from nn.module\n",
        "  def __init__(self):\n",
        "    super().__init__()\n",
        "    self.weights = nn.Parameter(torch.randn(1,\n",
        "                                            requires_grad=True,\n",
        "                                            dtype=torch.float))\n",
        "    self.bias = nn.Parameter(torch.randn(1,\n",
        "                                         requires_grad= True,\n",
        "                                         dtype=torch.float))\n",
        "\n",
        "\n",
        "\n",
        "    #Forward method to define the computation in the model\n",
        "  def forward(self, x: torch.Tensor) -> torch.Tensor:   #x is the input data\n",
        "    return self.weights * x + self.bias                 # this is the linear regreation formula"
      ],
      "metadata": {
        "id": "Uq3zVuO0xfqB"
      },
      "execution_count": 60,
      "outputs": []
    },
    {
      "cell_type": "code",
      "source": [],
      "metadata": {
        "id": "anCqIvjBgnSt"
      },
      "execution_count": 60,
      "outputs": []
    },
    {
      "cell_type": "code",
      "source": [],
      "metadata": {
        "id": "wRW5PKjWAX3j"
      },
      "execution_count": 60,
      "outputs": []
    },
    {
      "cell_type": "markdown",
      "source": [
        "Pytorch Model building essentials: 5h18min\n",
        "1.torch.nn\n",
        "\n",
        "2.torch.nn.Parameters\n",
        "\n",
        "3.torch.nn.Module\n",
        "\n",
        "4.torch.optim\n",
        "\n",
        "5.def forward()"
      ],
      "metadata": {
        "id": "1byzgg0i4pIw"
      }
    },
    {
      "cell_type": "code",
      "source": [
        "#Creating a Random seed\n",
        "torch.manual_seed(42)\n",
        "\n",
        "#Create an instance of the model(This is a subclass of nn.module)\n",
        "model_0 = LinearRegressionModel()\n",
        "\n",
        "#check out the parameters\n",
        "list(model_0.parameters())"
      ],
      "metadata": {
        "colab": {
          "base_uri": "https://localhost:8080/"
        },
        "id": "GReFs5hd4TUg",
        "outputId": "c1e69ef2-edca-463a-9407-f33b4177b55b"
      },
      "execution_count": 61,
      "outputs": [
        {
          "output_type": "execute_result",
          "data": {
            "text/plain": [
              "[Parameter containing:\n",
              " tensor([0.3367], requires_grad=True),\n",
              " Parameter containing:\n",
              " tensor([0.1288], requires_grad=True)]"
            ]
          },
          "metadata": {},
          "execution_count": 61
        }
      ]
    },
    {
      "cell_type": "code",
      "source": [
        "#List named parameters\n",
        "model_0.state_dict()"
      ],
      "metadata": {
        "colab": {
          "base_uri": "https://localhost:8080/"
        },
        "id": "-zd0dU689v8X",
        "outputId": "6e60be77-bccd-4249-fd8b-ce26a8701f36"
      },
      "execution_count": 62,
      "outputs": [
        {
          "output_type": "execute_result",
          "data": {
            "text/plain": [
              "OrderedDict([('weights', tensor([0.3367])), ('bias', tensor([0.1288]))])"
            ]
          },
          "metadata": {},
          "execution_count": 62
        }
      ]
    },
    {
      "cell_type": "code",
      "source": [
        "weight,bias"
      ],
      "metadata": {
        "colab": {
          "base_uri": "https://localhost:8080/"
        },
        "id": "guJZIWqa98h6",
        "outputId": "aa718859-7530-4579-d425-ff4afc0b7779"
      },
      "execution_count": 63,
      "outputs": [
        {
          "output_type": "execute_result",
          "data": {
            "text/plain": [
              "(0.7, 0.3)"
            ]
          },
          "metadata": {},
          "execution_count": 63
        }
      ]
    },
    {
      "cell_type": "markdown",
      "source": [
        "the closer we get to this weight and bias we achieve it\n",
        "in most cases we don't know what these values are"
      ],
      "metadata": {
        "id": "623E0lkL-dpU"
      }
    },
    {
      "cell_type": "markdown",
      "source": [
        "Predicting"
      ],
      "metadata": {
        "id": "MVTjAZIz-zvo"
      }
    },
    {
      "cell_type": "markdown",
      "source": [
        "#Making prediction using torch.inference_mode()\n",
        "\n",
        "\n",
        "To check our models predictive power, Lets see how well it predicts"
      ],
      "metadata": {
        "id": "QsvZub1l-3FP"
      }
    },
    {
      "cell_type": "code",
      "source": [
        "#Make prediction with model\n",
        "with torch.inference_mode():           ##inference is just prediction\n",
        "  y_preds = model_0(X_test)\n",
        "\n",
        "y_preds"
      ],
      "metadata": {
        "colab": {
          "base_uri": "https://localhost:8080/"
        },
        "id": "hTU3lBtO_GI7",
        "outputId": "a8060f27-1950-4160-ad7f-9f433d41c789"
      },
      "execution_count": 64,
      "outputs": [
        {
          "output_type": "execute_result",
          "data": {
            "text/plain": [
              "tensor([[0.3982],\n",
              "        [0.4049],\n",
              "        [0.4116],\n",
              "        [0.4184],\n",
              "        [0.4251],\n",
              "        [0.4318],\n",
              "        [0.4386],\n",
              "        [0.4453],\n",
              "        [0.4520],\n",
              "        [0.4588]])"
            ]
          },
          "metadata": {},
          "execution_count": 64
        }
      ]
    },
    {
      "cell_type": "code",
      "source": [
        "y_test\n"
      ],
      "metadata": {
        "colab": {
          "base_uri": "https://localhost:8080/"
        },
        "id": "tuhY27SQBtBz",
        "outputId": "f1a0896d-0d45-4ec9-ecf3-c148bad3906c"
      },
      "execution_count": 65,
      "outputs": [
        {
          "output_type": "execute_result",
          "data": {
            "text/plain": [
              "tensor([[0.8600],\n",
              "        [0.8740],\n",
              "        [0.8880],\n",
              "        [0.9020],\n",
              "        [0.9160],\n",
              "        [0.9300],\n",
              "        [0.9440],\n",
              "        [0.9580],\n",
              "        [0.9720],\n",
              "        [0.9860]])"
            ]
          },
          "metadata": {},
          "execution_count": 65
        }
      ]
    },
    {
      "cell_type": "code",
      "source": [
        "print(y_preds.shape)\n",
        "print(X_test.shape)\n",
        "print(y_test.shape)\n"
      ],
      "metadata": {
        "colab": {
          "base_uri": "https://localhost:8080/"
        },
        "id": "PjRgugW8g5Sc",
        "outputId": "8174f723-9a83-4597-ebf5-145202e42649"
      },
      "execution_count": 66,
      "outputs": [
        {
          "output_type": "stream",
          "name": "stdout",
          "text": [
            "torch.Size([10, 1])\n",
            "torch.Size([10, 1])\n",
            "torch.Size([10, 1])\n"
          ]
        }
      ]
    },
    {
      "cell_type": "code",
      "source": [
        "plot_prediction(predictions=y_preds)"
      ],
      "metadata": {
        "colab": {
          "base_uri": "https://localhost:8080/",
          "height": 519
        },
        "id": "G8K0n2KxhtIF",
        "outputId": "620f52f2-78bb-4019-9f2b-7a0c4d572ef5"
      },
      "execution_count": 67,
      "outputs": [
        {
          "output_type": "display_data",
          "data": {
            "text/plain": [
              "<Figure size 1000x800 with 1 Axes>"
            ],
            "image/png": "[encoded data removed]"
          },
          "metadata": {}
        }
      ]
    }
  ]
}